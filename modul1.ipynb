{
  "metadata": {
    "language_info": {
      "codemirror_mode": {
        "name": "python",
        "version": 3
      },
      "file_extension": ".py",
      "mimetype": "text/x-python",
      "name": "python",
      "nbconvert_exporter": "python",
      "pygments_lexer": "ipython3",
      "version": "3.8"
    },
    "kernelspec": {
      "name": "python",
      "display_name": "Pyolite",
      "language": "python"
    }
  },
  "nbformat_minor": 4,
  "nbformat": 4,
  "cells": [
    {
      "cell_type": "code",
      "source": "myDict = {'word': \"Econometrics\",\n'sentence' : \"If the implemetation is easy to explain,it may be a good idea.\",\n'big_list' : [\"python\", 3, \"anaconda\", 3.6, \"jupiter\", 10, \"lessons\", \"many\", 99],\n'empty_list':[]}",
      "metadata": {
        "trusted": true
      },
      "execution_count": 1,
      "outputs": []
    },
    {
      "cell_type": "code",
      "source": "#1,2\nif not myDict['word'].isupper():\n    myDict['word'] = \"Applied_\" + myDict['word'].upper()",
      "metadata": {
        "trusted": true
      },
      "execution_count": 5,
      "outputs": []
    },
    {
      "cell_type": "code",
      "source": "#3\nsentences = myDict['sentence'].split(\" \")\nsentences[2] = \"Gayane\"\nnew_sentence = \" \".join(sentences)\nmyDict['sentence'] = new_sentence",
      "metadata": {
        "trusted": true
      },
      "execution_count": 6,
      "outputs": []
    },
    {
      "cell_type": "code",
      "source": "#4\nfor item in myDict['big_list']:\n    if type(item) == str:\n        print(item[0])",
      "metadata": {
        "trusted": true
      },
      "execution_count": 8,
      "outputs": [
        {
          "name": "stdout",
          "text": "p\na\nj\nl\nm\n",
          "output_type": "stream"
        }
      ]
    },
    {
      "cell_type": "code",
      "source": "#5\nsum = 0\nfor item in myDict['big_list']:\n    if type(item) == int:\n        sum+= item\nprint(sum)\nsum1 = 0\nmyDict['big_list'].remove(myDict['big_list'][-1])\nmyDict['big_list'].append(87)\nfor item in myDict['big_list']:\n    if type(item) == int:\n        sum1+= item\nprint(sum1)",
      "metadata": {
        "trusted": true
      },
      "execution_count": 9,
      "outputs": [
        {
          "name": "stdout",
          "text": "112\n100\n",
          "output_type": "stream"
        }
      ]
    },
    {
      "cell_type": "code",
      "source": "#6\nmyDict['big_list'][7], myDict['big_list'][1] = myDict['big_list'][1],myDict['big_list'][7]\nprint(myDict['big_list'])",
      "metadata": {
        "trusted": true
      },
      "execution_count": 12,
      "outputs": [
        {
          "name": "stdout",
          "text": "['python', 'anaconda', 'many', 3.6, 'jupiter', 10, 'lessons', 3, 87]\n",
          "output_type": "stream"
        }
      ]
    },
    {
      "cell_type": "code",
      "source": "#7\nmy_list = []\ncount_odd = 0\ncount_prime = 0\nfor i in range(10,100):\n    my_list.append(i)",
      "metadata": {
        "trusted": true
      },
      "execution_count": 13,
      "outputs": []
    },
    {
      "cell_type": "code",
      "source": "for number in my_list:\n    if number % 2 == 0:\n        count_prime +=1\n    elif number % 2 == 1:\n        count_odd +=1\nprint(count_odd, count_prime)",
      "metadata": {
        "trusted": true
      },
      "execution_count": 14,
      "outputs": [
        {
          "name": "stdout",
          "text": "45 45\n",
          "output_type": "stream"
        }
      ]
    },
    {
      "cell_type": "code",
      "source": "for key in myDict:\n    print(myDict[key])",
      "metadata": {
        "trusted": true
      },
      "execution_count": 15,
      "outputs": [
        {
          "name": "stdout",
          "text": "Applied_APPLIED_ECONOMETRICS\nIf the Gayane is easy to explain,it may be a good idea.\n['python', 'anaconda', 'many', 3.6, 'jupiter', 10, 'lessons', 3, 87]\n[]\n",
          "output_type": "stream"
        }
      ]
    },
    {
      "cell_type": "code",
      "source": "",
      "metadata": {},
      "execution_count": null,
      "outputs": []
    }
  ]
}